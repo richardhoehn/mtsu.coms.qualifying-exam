{
 "cells": [
  {
   "cell_type": "code",
   "execution_count": 1,
   "id": "6da959ca",
   "metadata": {},
   "outputs": [
    {
     "name": "stderr",
     "output_type": "stream",
     "text": [
      "Setting default log level to \"WARN\".\n",
      "To adjust logging level use sc.setLogLevel(newLevel). For SparkR, use setLogLevel(newLevel).\n"
     ]
    },
    {
     "name": "stdout",
     "output_type": "stream",
     "text": [
      "23/08/14 10:02:12 WARN NativeCodeLoader: Unable to load native-hadoop library for your platform... using builtin-java classes where applicable\n",
      "Spark V:  3.3.2\n"
     ]
    }
   ],
   "source": [
    "# Setup Spark Session\n",
    "from pyspark.sql import SparkSession\n",
    "\n",
    "# Get Imports Needed\n",
    "from pyspark.sql.functions import col, udf, regexp_replace, lower\n",
    "from pyspark.sql import functions as F\n",
    "\n",
    "\n",
    "# Get Datatypes needed for DataFrame manipulation\n",
    "from pyspark.sql.types import IntegerType, StringType, ArrayType\n",
    "\n",
    "# Other Imports\n",
    "import re  # Import the \"re\" module for regular expressions\n",
    "\n",
    "\n",
    "# Setup Spark Session\n",
    "sc = SparkSession \\\n",
    "        .builder \\\n",
    "        .master(\"local[*]\") \\\n",
    "        .appName(\"Qualyfing-Exam\") \\\n",
    "        .getOrCreate()\n",
    "\n",
    "# Print Spark Version being run\n",
    "print(\"Spark V: \", sc.version)"
   ]
  },
  {
   "cell_type": "code",
   "execution_count": 2,
   "id": "ea0a3475",
   "metadata": {},
   "outputs": [
    {
     "name": "stdout",
     "output_type": "stream",
     "text": [
      "English Row Count: 1500\n",
      "German Row Count: 1500\n",
      "English Train Row Count: 1288\n",
      "German Train Row Count: 1281\n",
      "English Extended Train Row Count: 2779\n",
      "German Extended Train Row Count: 2781\n",
      "+-----+-----+\n",
      "|label|count|\n",
      "+-----+-----+\n",
      "|  8.0|   81|\n",
      "|  7.0|  186|\n",
      "|  1.0|  142|\n",
      "|  4.0|   42|\n",
      "| 11.0|   25|\n",
      "| 10.0|  288|\n",
      "|  6.0|    8|\n",
      "|  5.0|  310|\n",
      "|  9.0|  206|\n",
      "+-----+-----+\n",
      "\n",
      "+-----+-----+\n",
      "|label|count|\n",
      "+-----+-----+\n",
      "|  8.0|  291|\n",
      "|  7.0|  271|\n",
      "|  1.0|  334|\n",
      "|  4.0|   62|\n",
      "| 11.0|  494|\n",
      "| 10.0|  375|\n",
      "|  6.0|  140|\n",
      "|  5.0|  499|\n",
      "|  9.0|  313|\n",
      "+-----+-----+\n",
      "\n"
     ]
    }
   ],
   "source": [
    "# Setup the Dataframes for Training & Testing\n",
    "# Read the English & German Datasets into Dataframes\n",
    "df_en = sc.read.csv(\"data/pd_en_translated.csv\", header=True, inferSchema=True)\n",
    "df_de = sc.read.csv(\"data/pd_de_translated.csv\", header=True, inferSchema=True)\n",
    "print(f\"English Row Count: {df_en.count()}\")\n",
    "print(f\"German Row Count: {df_de.count()}\")\n",
    "\n",
    "# Add Numerical Label for Emotions\n",
    "emotion_key = {\n",
    "    \"boredom\": 0,\n",
    "    \"love\": 1,\n",
    "    \"relief\": 2,\n",
    "    \"fun\": 3,\n",
    "    \"hate\": 4,\n",
    "    \"neutral\": 5,\n",
    "    \"anger\": 6,\n",
    "    \"happiness\": 7,\n",
    "    \"surprise\": 8,\n",
    "    \"sadness\": 9,\n",
    "    \"worry\": 10,\n",
    "    \"enthusiasm\": 11,\n",
    "    \"empty\": 12,\n",
    "    \"---\": 13\n",
    "}\n",
    "\n",
    "# Create a mapping function to map emotion_en to label\n",
    "def map_emotion(label):\n",
    "    return emotion_key[label]\n",
    "\n",
    "# Add a new column \"label\" to the DataFrame with numerical emotion labels\n",
    "map_emotion_udf = F.udf(map_emotion, IntegerType())\n",
    "df_en = df_en.withColumn(\"label\", map_emotion_udf(\"emotion_en\"))\n",
    "df_de = df_de.withColumn(\"label\", map_emotion_udf(\"emotion_en\"))\n",
    "\n",
    "# Cast the Label to Double\n",
    "df_en = df_en.withColumn(\"label\", col(\"label\").cast(\"double\"))\n",
    "df_de = df_de.withColumn(\"label\", col(\"label\").cast(\"double\"))\n",
    "\n",
    "\n",
    "# Make Sure there are No Rows with NULLs in the sentence columns\n",
    "df_en = df_en.dropna(subset=[\"sentence_en\"])\n",
    "df_en = df_en.dropna(subset=[\"sentence_de\"])\n",
    "\n",
    "df_de = df_de.dropna(subset=[\"sentence_de\"])\n",
    "df_de = df_de.dropna(subset=[\"sentence_en\"])\n",
    "\n",
    "\n",
    "# Function to clean Sentence\n",
    "def clean_sentence(sentence):\n",
    "    sentence = re.sub(r'@\\w+', '', sentence) # Remove mentions (@user)\n",
    "    sentence = re.sub(r'#\\w+', '', sentence) # Remove hashtags (#weekend)\n",
    "    sentence = re.sub(r'https?://\\S+|www\\.\\S+|bit\\.ly/\\S+', '', sentence) # Remove URLs\n",
    "    sentence = re.sub(r\"[^\\w\\s]\", \"\", sentence) # Remove special characters and symbols\n",
    "    sentence = sentence.lower() # Convert to lowercase\n",
    "    sentence = re.sub(r'\\s+', ' ', sentence).strip() # Remove multiple spaces and leading/trailing spaces\n",
    "    sentence = re.sub(r'\\t', ' ', sentence) # Remove tabs\n",
    "    return sentence\n",
    "\n",
    "# Create a User-Defined Function (UDF) to apply the sentence cleaning function to the DataFrame\n",
    "clean_sentence_udf = udf(clean_sentence, StringType())\n",
    "df_en = df_en.withColumn(\"sentence_en\", clean_sentence_udf(\"sentence_en\"))\n",
    "df_en = df_en.withColumn(\"sentence_de\", clean_sentence_udf(\"sentence_de\"))\n",
    "\n",
    "df_de = df_de.withColumn(\"sentence_en\", clean_sentence_udf(\"sentence_en\"))\n",
    "df_de = df_de.withColumn(\"sentence_de\", clean_sentence_udf(\"sentence_de\"))\n",
    "\n",
    "\n",
    "# Split the English and German Dataframes for Training and Testing\n",
    "# We are using a 20/80 Split\n",
    "df_en_train, df_en_test = df_en.randomSplit([0.85, 0.15], seed=2023)\n",
    "df_de_train, df_de_test = df_de.randomSplit([0.85, 0.15], seed=2023)\n",
    "print(f\"English Train Row Count: {df_en_train.count()}\")\n",
    "print(f\"German Train Row Count: {df_de_train.count()}\")\n",
    "\n",
    "\n",
    "# Create the Extended Dataframe wiht Translated Data\n",
    "df_en_train_extended = df_en_train.union(df_de.select(*df_en_train.columns))\n",
    "df_de_train_extended = df_de_train.union(df_en.select(*df_de_train.columns))\n",
    "print(f\"English Extended Train Row Count: {df_en_train_extended.count()}\")\n",
    "print(f\"German Extended Train Row Count: {df_de_train_extended.count()}\")\n",
    "\n",
    "\n",
    "df_en_train.groupBy(\"label\").count().show()\n",
    "df_en_train_extended.groupBy(\"label\").count().show()\n"
   ]
  },
  {
   "cell_type": "code",
   "execution_count": null,
   "id": "97373240",
   "metadata": {},
   "outputs": [],
   "source": [
    "from pyspark.ml.feature import Tokenizer, CountVectorizer, IDF, StringIndexer\n",
    "from pyspark.ml.classification import NaiveBayes, RandomForestClassifier, LogisticRegression\n",
    "from pyspark.ml import Pipeline\n",
    "from pyspark.ml.evaluation import MulticlassClassificationEvaluator\n",
    "from pyspark.ml.feature import StringIndexer, Tokenizer, StopWordsRemover, CountVectorizer, IDF, Word2Vec\n",
    "from transformers import DistilBertTokenizer\n",
    "\n",
    "import os\n",
    "import shutil\n",
    "\n",
    "\n",
    "# Clean Dataframes (becasue of past iterations)\n",
    "df_en_train = df_en_train.select(\"label\", \"sentence_en\", \"sentence_de\")\n",
    "df_en_test = df_en_test.select(\"label\", \"sentence_en\", \"sentence_de\")\n",
    "df_de_train = df_de_train.select(\"label\", \"sentence_en\", \"sentence_de\")\n",
    "df_de_test = df_de_test.select(\"label\", \"sentence_en\", \"sentence_de\")\n",
    "\n",
    "\n",
    "# Initialize the AutoTokenizer\n",
    "tokenizer = DistilBertTokenizer.from_pretrained(\"distilbert-base-multilingual-cased\")\n",
    "\n",
    "# Define a UDF to tokenize the text column\n",
    "def tokenize_text(text):\n",
    "    return tokenizer.tokenize(text)\n",
    "\n",
    "tokenize_udf = udf(tokenize_text, ArrayType(StringType()))\n",
    "\n",
    "\n",
    "# Tokenize the text column using the UDF\n",
    "df_en_train = df_en_train.withColumn(\"words\", tokenize_udf(\"sentence_en\"))\n",
    "df_en_test = df_en_test.withColumn(\"words\", tokenize_udf(\"sentence_en\"))\n",
    "\n",
    "df_de_train = df_de_train.withColumn(\"words\", tokenize_udf(\"sentence_de\"))\n",
    "df_de_test = df_de_test.withColumn(\"words\", tokenize_udf(\"sentence_de\"))\n",
    "\n",
    "\n",
    "# Prepare the feature column by applying various transformations\n",
    "stop_words_remover = StopWordsRemover(inputCol=\"words\", \n",
    "                                      outputCol=\"filtered_words\")\n",
    "\n",
    "cv = CountVectorizer(inputCol=\"filtered_words\", \n",
    "                     outputCol=\"raw_features\", \n",
    "                     vocabSize=1000)\n",
    "\n",
    "idf = IDF(inputCol=\"raw_features\", \n",
    "          outputCol=\"features\")\n",
    "\n",
    "word2Vec = Word2Vec(vectorSize=100,\n",
    "                    minCount=3,\n",
    "                    inputCol=\"filtered_words\",\n",
    "                    outputCol=\"features\")\n",
    "\n",
    "# Models\n",
    "rfc = RandomForestClassifier(labelCol=\"label\", \n",
    "                             featuresCol=\"features\", \n",
    "                             maxBins=32,\n",
    "                             numTrees=100, \n",
    "                             maxDepth=10)\n",
    "\n",
    "nb = NaiveBayes(labelCol=\"label\", \n",
    "                featuresCol=\"features\", \n",
    "                modelType=\"multinomial\",\n",
    "                smoothing=1.0)\n",
    "\n",
    "lr = LogisticRegression(labelCol=\"label\", \n",
    "                        featuresCol=\"features\", \n",
    "                        regParam=1.0,\n",
    "                        elasticNetParam=0.01,\n",
    "                        maxIter=100)\n",
    "\n",
    "\n",
    "# Create the pipeline\n",
    "pipeline_rfc = Pipeline(stages=[stop_words_remover, word2Vec, rfc ])\n",
    "pipeline_nb  = Pipeline(stages=[stop_words_remover, cv,       idf, nb])\n",
    "pipeline_lr  = Pipeline(stages=[stop_words_remover, cv,       idf, lr])\n",
    "\n",
    "\n",
    "# Fit the pipeline to the training data\n",
    "# This is essentially creating the model\n",
    "model_en_rfc = pipeline_rfc.fit(df_en_train)\n",
    "model_en_nb  = pipeline_nb.fit(df_en_train)\n",
    "model_en_lr  = pipeline_lr.fit(df_en_train)\n",
    "model_de_rfc = pipeline_rfc.fit(df_de_train)\n",
    "model_de_nb  = pipeline_nb.fit(df_de_train)\n",
    "model_de_lr  = pipeline_lr.fit(df_de_train)\n",
    "\n",
    "# Save Trained Models to Disk\n",
    "# These will later on be used by the RESTful API\n",
    "\n",
    "# First Cleanup Old Models\n",
    "for root, dirs, files in os.walk(\"./models/\", topdown=False):\n",
    "    for dir_name in dirs:\n",
    "        folder_path = os.path.join(root, dir_name)\n",
    "        shutil.rmtree(folder_path)\n",
    "        print(f\"Removed folder: {folder_path}\")\n",
    "\n",
    "model_en_rfc.save(\"./models/model_en_rfc.model\")\n",
    "model_en_nb.save(\"./models/model_en_nb.model\")\n",
    "model_en_lr.save(\"./models/model_en_lr.model\")\n",
    "model_de_rfc.save(\"./models/model_de_rfc.model\")\n",
    "model_de_nb.save(\"./models/model_de_nb.model\")\n",
    "model_de_lr.save(\"./models/model_de_lr.model\")\n",
    "\n",
    "\n",
    "# Make Predictions\n",
    "predictions_en_rfc = model_en_rfc.transform(df_en_test)\n",
    "predictions_en_nb = model_en_nb.transform(df_en_test)\n",
    "predictions_en_lr = model_en_lr.transform(df_en_test)\n",
    "predictions_de_rfc = model_de_rfc.transform(df_de_test)\n",
    "predictions_de_nb = model_de_nb.transform(df_de_test)\n",
    "predictions_de_lr = model_de_lr.transform(df_de_test)\n",
    "\n",
    "\n",
    "# Evaluate the model's performance\n",
    "eval_ac = MulticlassClassificationEvaluator(labelCol=\"label\", predictionCol=\"prediction\", metricName=\"accuracy\")\n",
    "eval_f1 = MulticlassClassificationEvaluator(labelCol=\"label\", predictionCol=\"prediction\", metricName=\"f1\")\n",
    "\n",
    "# Process English\n",
    "accuracy_en_rfc = eval_ac.evaluate(predictions_en_rfc)\n",
    "accuracy_en_nb = eval_ac.evaluate(predictions_en_nb)\n",
    "accuracy_en_lr = eval_ac.evaluate(predictions_en_lr)\n",
    "\n",
    "f1_en_rfc = eval_f1.evaluate(predictions_en_rfc)\n",
    "f1_en_nb = eval_f1.evaluate(predictions_en_nb)\n",
    "f1_en_lr = eval_f1.evaluate(predictions_en_lr)\n",
    "\n",
    "# Process German\n",
    "accuracy_de_rfc = eval_ac.evaluate(predictions_de_rfc)\n",
    "accuracy_de_nb = eval_ac.evaluate(predictions_de_nb)\n",
    "accuracy_de_lr = eval_ac.evaluate(predictions_de_lr)\n",
    "\n",
    "f1_de_rfc = eval_f1.evaluate(predictions_de_rfc)\n",
    "f1_de_nb = eval_f1.evaluate(predictions_de_nb)\n",
    "f1_de_lr = eval_f1.evaluate(predictions_de_lr)\n",
    "\n",
    "print()\n",
    "print(\"English Dataset\")\n",
    "print(f\"Test Accuracy (RFC): {accuracy_en_rfc:.4f} with an F1: {f1_en_rfc:.4f}\")\n",
    "print(f\"Test Accuracy (NB): {accuracy_en_nb:.4f} with an F1: {f1_en_nb:.4f}\")\n",
    "print(f\"Test Accuracy (LR): {accuracy_en_lr:.4f} with an F1: {f1_en_lr:.4f}\")\n",
    "print()\n",
    "\n",
    "print()\n",
    "print(\"German Dataset\")\n",
    "print(f\"Test Accuracy (RFC): {accuracy_de_rfc:.4f} with an F1: {f1_de_rfc:.4f}\")\n",
    "print(f\"Test Accuracy (NB): {accuracy_de_nb:.4f} with an F1: {f1_de_nb:.4f}\")\n",
    "print(f\"Test Accuracy (LR): {accuracy_de_lr:.4f} with an F1: {f1_de_lr:.4f}\")\n",
    "print()\n"
   ]
  },
  {
   "cell_type": "code",
   "execution_count": null,
   "id": "9f42128f",
   "metadata": {},
   "outputs": [],
   "source": [
    "print(\"DE - Labels\")\n",
    "predictions_de_rfc.groupBy(\"label\").count().show()\n",
    "\n",
    "print(\"DE - RFC\")\n",
    "predictions_de_rfc.groupBy(\"prediction\").count().show()\n",
    "\n",
    "print(\"DE - LR\")\n",
    "predictions_de_lr.groupBy(\"prediction\").count().show()\n",
    "\n",
    "print(\"DE - NB\")\n",
    "predictions_de_nb.groupBy(\"prediction\").count().show()\n",
    "\n",
    "print(\"EN - Labels\")\n",
    "predictions_en_rfc.groupBy(\"label\").count().show()\n",
    "\n",
    "print(\"EN - RFC\")\n",
    "predictions_en_rfc.groupBy(\"prediction\").count().show()\n",
    "\n",
    "print(\"EN - LR\")\n",
    "predictions_en_lr.groupBy(\"prediction\").count().show()\n",
    "\n",
    "print(\"EN - NB\")\n",
    "predictions_en_nb.groupBy(\"prediction\").count().show()"
   ]
  },
  {
   "cell_type": "code",
   "execution_count": null,
   "id": "f5d7f54d",
   "metadata": {},
   "outputs": [
    {
     "name": "stdout",
     "output_type": "stream",
     "text": [
      " * Serving Flask app '__main__'\n",
      " * Debug mode: off\n"
     ]
    },
    {
     "name": "stderr",
     "output_type": "stream",
     "text": [
      "\u001b[31m\u001b[1mWARNING: This is a development server. Do not use it in a production deployment. Use a production WSGI server instead.\u001b[0m\n",
      " * Running on http://127.0.0.1:8080\n",
      "\u001b[33mPress CTRL+C to quit\u001b[0m\n"
     ]
    },
    {
     "name": "stdout",
     "output_type": "stream",
     "text": [
      "English: Chocolate milk is so yummy!\n",
      "German: None\n",
      "English: Chocolate milk is so yummy!\n",
      "German: Schokoladenmilch ist so lecker!\n",
      "23/08/14 10:15:42 WARN DAGScheduler: Broadcasting large task binary with size 5.2 MiB\n",
      "23/08/14 10:15:43 WARN DAGScheduler: Broadcasting large task binary with size 5.5 MiB\n"
     ]
    },
    {
     "name": "stderr",
     "output_type": "stream",
     "text": [
      "127.0.0.1 - - [14/Aug/2023 10:15:43] \"GET /predict?sentence_en=Chocolate%20milk%20is%20so%20yummy! HTTP/1.1\" 200 -\n",
      "127.0.0.1 - - [14/Aug/2023 10:15:43] \"GET /predict?sentence_de= HTTP/1.1\" 200 -\n"
     ]
    },
    {
     "name": "stdout",
     "output_type": "stream",
     "text": [
      "English: None\n",
      "German: \n",
      "English: Chocolate milk is so yummy!\n",
      "German: None\n",
      "English: Chocolate milk is so yummy!\n",
      "German: Schokoladenmilch ist so lecker!\n",
      "23/08/14 10:15:58 WARN DAGScheduler: Broadcasting large task binary with size 5.2 MiB\n",
      "23/08/14 10:15:58 WARN DAGScheduler: Broadcasting large task binary with size 5.5 MiB\n"
     ]
    },
    {
     "name": "stderr",
     "output_type": "stream",
     "text": [
      "127.0.0.1 - - [14/Aug/2023 10:15:59] \"GET /predict?sentence_en=Chocolate%20milk%20is%20so%20yummy! HTTP/1.1\" 200 -\n",
      "127.0.0.1 - - [14/Aug/2023 10:15:59] \"GET /predict?sentence_de= HTTP/1.1\" 200 -\n"
     ]
    },
    {
     "name": "stdout",
     "output_type": "stream",
     "text": [
      "English: None\n",
      "German: \n"
     ]
    },
    {
     "name": "stderr",
     "output_type": "stream",
     "text": [
      "127.0.0.1 - - [14/Aug/2023 10:16:11] \"GET /predict?sentence_en= HTTP/1.1\" 200 -\n"
     ]
    },
    {
     "name": "stdout",
     "output_type": "stream",
     "text": [
      "English: \n",
      "German: None\n",
      "English: None\n",
      "German: I bin sehr happy\n",
      "English: I am very happy\n",
      "German: I bin sehr happy\n",
      "23/08/14 10:16:12 WARN DAGScheduler: Broadcasting large task binary with size 5.2 MiB\n",
      "23/08/14 10:16:12 WARN DAGScheduler: Broadcasting large task binary with size 5.5 MiB\n"
     ]
    },
    {
     "name": "stderr",
     "output_type": "stream",
     "text": [
      "127.0.0.1 - - [14/Aug/2023 10:16:12] \"GET /predict?sentence_de=I%20bin%20sehr%20happy HTTP/1.1\" 200 -\n",
      "127.0.0.1 - - [14/Aug/2023 10:16:55] \"GET /predict?sentence_en= HTTP/1.1\" 200 -\n"
     ]
    },
    {
     "name": "stdout",
     "output_type": "stream",
     "text": [
      "English: \n",
      "German: None\n",
      "English: None\n",
      "German: I bin traurig\n",
      "English: I am sad\n",
      "German: I bin traurig\n",
      "23/08/14 10:16:55 WARN DAGScheduler: Broadcasting large task binary with size 5.2 MiB\n",
      "23/08/14 10:16:56 WARN DAGScheduler: Broadcasting large task binary with size 5.5 MiB\n"
     ]
    },
    {
     "name": "stderr",
     "output_type": "stream",
     "text": [
      "127.0.0.1 - - [14/Aug/2023 10:16:56] \"GET /predict?sentence_de=I%20bin%20traurig HTTP/1.1\" 200 -\n"
     ]
    },
    {
     "name": "stdout",
     "output_type": "stream",
     "text": [
      "English: What should I do?\n",
      "German: None\n",
      "English: What should I do?\n",
      "German: Was soll ich machen?\n",
      "23/08/14 10:18:20 WARN DAGScheduler: Broadcasting large task binary with size 5.2 MiB\n",
      "23/08/14 10:18:21 WARN DAGScheduler: Broadcasting large task binary with size 5.5 MiB\n"
     ]
    },
    {
     "name": "stderr",
     "output_type": "stream",
     "text": [
      "127.0.0.1 - - [14/Aug/2023 10:18:21] \"GET /predict?sentence_en=What%20should%20I%20do? HTTP/1.1\" 200 -\n",
      "127.0.0.1 - - [14/Aug/2023 10:18:21] \"GET /predict?sentence_de= HTTP/1.1\" 200 -\n"
     ]
    },
    {
     "name": "stdout",
     "output_type": "stream",
     "text": [
      "English: None\n",
      "German: \n",
      "English: I ma not the only peson that is mad about this!\n",
      "German: None\n",
      "English: I ma not the only peson that is mad about this!\n",
      "German: Ich bin nicht die einzige Person, die sauer darüber ist!\n",
      "23/08/14 10:18:41 WARN DAGScheduler: Broadcasting large task binary with size 5.2 MiB\n",
      "23/08/14 10:18:41 WARN DAGScheduler: Broadcasting large task binary with size 5.5 MiB\n"
     ]
    },
    {
     "name": "stderr",
     "output_type": "stream",
     "text": [
      "127.0.0.1 - - [14/Aug/2023 10:18:42] \"GET /predict?sentence_en=I%20ma%20not%20the%20only%20peson%20that%20is%20mad%20about%20this! HTTP/1.1\" 200 -\n",
      "127.0.0.1 - - [14/Aug/2023 10:18:42] \"GET /predict?sentence_de= HTTP/1.1\" 200 -\n"
     ]
    },
    {
     "name": "stdout",
     "output_type": "stream",
     "text": [
      "English: None\n",
      "German: \n",
      "English: Testing This now\n",
      "German: \n",
      "English: Testing This now\n",
      "German: Testen Sie dies jetzt\n",
      "23/08/14 10:21:06 WARN DAGScheduler: Broadcasting large task binary with size 5.2 MiB\n",
      "23/08/14 10:21:06 WARN DAGScheduler: Broadcasting large task binary with size 5.5 MiB\n"
     ]
    },
    {
     "name": "stderr",
     "output_type": "stream",
     "text": [
      "127.0.0.1 - - [14/Aug/2023 10:21:06] \"GET /predict?sentence_en=Testing%20This%20now&sentence_de= HTTP/1.1\" 200 -\n"
     ]
    },
    {
     "name": "stdout",
     "output_type": "stream",
     "text": [
      "English: Hello World\n",
      "German: \n",
      "English: Hello World\n",
      "German: Hallo Welt\n",
      "23/08/14 10:22:53 WARN DAGScheduler: Broadcasting large task binary with size 5.2 MiB\n",
      "23/08/14 10:22:53 WARN DAGScheduler: Broadcasting large task binary with size 5.5 MiB\n"
     ]
    },
    {
     "name": "stderr",
     "output_type": "stream",
     "text": [
      "127.0.0.1 - - [14/Aug/2023 10:22:53] \"GET /predict?sentence_en=Hello%20World&sentence_de= HTTP/1.1\" 200 -\n"
     ]
    },
    {
     "name": "stdout",
     "output_type": "stream",
     "text": [
      "English: Hello World\n",
      "German: \n",
      "English: Hello World\n",
      "German: Hallo Welt\n",
      "23/08/14 10:24:04 WARN DAGScheduler: Broadcasting large task binary with size 5.2 MiB\n",
      "23/08/14 10:24:05 WARN DAGScheduler: Broadcasting large task binary with size 5.5 MiB\n"
     ]
    },
    {
     "name": "stderr",
     "output_type": "stream",
     "text": [
      "127.0.0.1 - - [14/Aug/2023 10:24:05] \"GET /predict?sentence_en=Hello%20World&sentence_de= HTTP/1.1\" 200 -\n"
     ]
    },
    {
     "name": "stdout",
     "output_type": "stream",
     "text": [
      "English: Hello World - I am happy\n",
      "German: \n",
      "English: Hello World - I am happy\n",
      "German: Hallo Welt - ich bin glücklich\n",
      "23/08/14 10:24:16 WARN DAGScheduler: Broadcasting large task binary with size 5.2 MiB\n",
      "23/08/14 10:24:16 WARN DAGScheduler: Broadcasting large task binary with size 5.5 MiB\n"
     ]
    },
    {
     "name": "stderr",
     "output_type": "stream",
     "text": [
      "127.0.0.1 - - [14/Aug/2023 10:24:16] \"GET /predict?sentence_en=Hello%20World%20-%20I%20am%20happy&sentence_de= HTTP/1.1\" 200 -\n"
     ]
    },
    {
     "name": "stdout",
     "output_type": "stream",
     "text": [
      "English: I am so upset wiht this outcome of this election!\n",
      "German: \n",
      "English: I am so upset wiht this outcome of this election!\n",
      "German: Ich bin so verärgert über dieses Ergebnis dieser Wahl!\n",
      "23/08/14 10:25:37 WARN DAGScheduler: Broadcasting large task binary with size 5.2 MiB\n",
      "23/08/14 10:25:37 WARN DAGScheduler: Broadcasting large task binary with size 5.5 MiB\n"
     ]
    },
    {
     "name": "stderr",
     "output_type": "stream",
     "text": [
      "127.0.0.1 - - [14/Aug/2023 10:25:37] \"GET /predict?sentence_en=I%20am%20so%20upset%20wiht%20this%20outcome%20of%20this%20election!&sentence_de= HTTP/1.1\" 200 -\n"
     ]
    },
    {
     "name": "stdout",
     "output_type": "stream",
     "text": [
      "English: I am so mad about this election!\n",
      "German: \n",
      "English: I am so mad about this election!\n",
      "German: Ich bin so sauer über diese Wahl!\n",
      "23/08/14 10:25:56 WARN DAGScheduler: Broadcasting large task binary with size 5.2 MiB\n",
      "23/08/14 10:25:57 WARN DAGScheduler: Broadcasting large task binary with size 5.5 MiB\n"
     ]
    },
    {
     "name": "stderr",
     "output_type": "stream",
     "text": [
      "127.0.0.1 - - [14/Aug/2023 10:25:57] \"GET /predict?sentence_en=I%20am%20so%20mad%20about%20this%20election!&sentence_de= HTTP/1.1\" 200 -\n"
     ]
    },
    {
     "name": "stdout",
     "output_type": "stream",
     "text": [
      "English: I am so mad about this election outcome I could screem!\n",
      "German: \n",
      "English: I am so mad about this election outcome I could screem!\n",
      "German: Ich bin so sauer auf dieses Wahlergebnis, dass ich schreien könnte!\n",
      "23/08/14 10:26:20 WARN DAGScheduler: Broadcasting large task binary with size 5.2 MiB\n",
      "23/08/14 10:26:20 WARN DAGScheduler: Broadcasting large task binary with size 5.5 MiB\n"
     ]
    },
    {
     "name": "stderr",
     "output_type": "stream",
     "text": [
      "127.0.0.1 - - [14/Aug/2023 10:26:20] \"GET /predict?sentence_en=I%20am%20so%20mad%20about%20this%20election%20outcome%20I%20could%20screem!&sentence_de= HTTP/1.1\" 200 -\n"
     ]
    },
    {
     "name": "stdout",
     "output_type": "stream",
     "text": [
      "English: This make me so happy\n",
      "German: \n",
      "English: This make me so happy\n",
      "German: Das macht mich so glücklich\n",
      "23/08/14 10:27:18 WARN DAGScheduler: Broadcasting large task binary with size 5.2 MiB\n",
      "23/08/14 10:27:18 WARN DAGScheduler: Broadcasting large task binary with size 5.5 MiB\n"
     ]
    },
    {
     "name": "stderr",
     "output_type": "stream",
     "text": [
      "127.0.0.1 - - [14/Aug/2023 10:27:19] \"GET /predict?sentence_en=This%20make%20me%20so%20happy&sentence_de= HTTP/1.1\" 200 -\n"
     ]
    },
    {
     "name": "stdout",
     "output_type": "stream",
     "text": [
      "English: Hello World!\n",
      "German: \n",
      "English: Hello World!\n",
      "German: Hallo Welt!\n",
      "23/08/14 10:33:30 WARN DAGScheduler: Broadcasting large task binary with size 5.2 MiB\n",
      "23/08/14 10:33:30 WARN DAGScheduler: Broadcasting large task binary with size 5.5 MiB\n"
     ]
    },
    {
     "name": "stderr",
     "output_type": "stream",
     "text": [
      "127.0.0.1 - - [14/Aug/2023 10:33:30] \"GET /predict?sentence_en=Hello%20World!&sentence_de= HTTP/1.1\" 200 -\n"
     ]
    },
    {
     "name": "stdout",
     "output_type": "stream",
     "text": [
      "English: Hello\n",
      "German: \n",
      "English: Hello\n",
      "German: Hallo\n",
      "23/08/14 10:34:54 WARN DAGScheduler: Broadcasting large task binary with size 5.2 MiB\n",
      "23/08/14 10:34:54 WARN DAGScheduler: Broadcasting large task binary with size 5.5 MiB\n"
     ]
    },
    {
     "name": "stderr",
     "output_type": "stream",
     "text": [
      "127.0.0.1 - - [14/Aug/2023 10:34:54] \"GET /predict?sentence_en=Hello&sentence_de= HTTP/1.1\" 200 -\n"
     ]
    },
    {
     "name": "stdout",
     "output_type": "stream",
     "text": [
      "English: Hello\n",
      "German: \n",
      "English: Hello\n",
      "German: Hallo\n",
      "23/08/14 10:36:05 WARN DAGScheduler: Broadcasting large task binary with size 5.2 MiB\n",
      "23/08/14 10:36:05 WARN DAGScheduler: Broadcasting large task binary with size 5.5 MiB\n"
     ]
    },
    {
     "name": "stderr",
     "output_type": "stream",
     "text": [
      "127.0.0.1 - - [14/Aug/2023 10:36:06] \"GET /predict?sentence_en=Hello&sentence_de= HTTP/1.1\" 200 -\n"
     ]
    },
    {
     "name": "stdout",
     "output_type": "stream",
     "text": [
      "English: Hello\n",
      "German: \n",
      "English: Hello\n",
      "German: Hallo\n",
      "23/08/14 10:36:42 WARN DAGScheduler: Broadcasting large task binary with size 5.2 MiB\n",
      "23/08/14 10:36:42 WARN DAGScheduler: Broadcasting large task binary with size 5.5 MiB\n"
     ]
    },
    {
     "name": "stderr",
     "output_type": "stream",
     "text": [
      "127.0.0.1 - - [14/Aug/2023 10:36:43] \"GET /predict?sentence_en=Hello&sentence_de= HTTP/1.1\" 200 -\n"
     ]
    },
    {
     "name": "stdout",
     "output_type": "stream",
     "text": [
      "English: I am so happy about this news!\n",
      "German: \n",
      "English: I am so happy about this news!\n",
      "German: Ich freue mich sehr über diese Neuigkeiten!\n",
      "23/08/14 10:37:01 WARN DAGScheduler: Broadcasting large task binary with size 5.2 MiB\n",
      "23/08/14 10:37:02 WARN DAGScheduler: Broadcasting large task binary with size 5.5 MiB\n"
     ]
    },
    {
     "name": "stderr",
     "output_type": "stream",
     "text": [
      "127.0.0.1 - - [14/Aug/2023 10:37:02] \"GET /predict?sentence_en=I%20am%20so%20happy%20about%20this%20news!&sentence_de= HTTP/1.1\" 200 -\n"
     ]
    },
    {
     "name": "stdout",
     "output_type": "stream",
     "text": [
      "English: Hello\n",
      "German: \n",
      "English: Hello\n",
      "German: Hallo\n",
      "23/08/14 10:46:09 WARN DAGScheduler: Broadcasting large task binary with size 5.2 MiB\n",
      "23/08/14 10:46:09 WARN DAGScheduler: Broadcasting large task binary with size 5.5 MiB\n"
     ]
    },
    {
     "name": "stderr",
     "output_type": "stream",
     "text": [
      "127.0.0.1 - - [14/Aug/2023 10:46:09] \"GET /predict?sentence_en=Hello&sentence_de= HTTP/1.1\" 200 -\n"
     ]
    },
    {
     "name": "stdout",
     "output_type": "stream",
     "text": [
      "English: Hello \n",
      "German: \n",
      "English: Hello \n",
      "German: Hallo\n",
      "23/08/14 10:46:33 WARN DAGScheduler: Broadcasting large task binary with size 5.2 MiB\n",
      "23/08/14 10:46:33 WARN DAGScheduler: Broadcasting large task binary with size 5.5 MiB\n"
     ]
    },
    {
     "name": "stderr",
     "output_type": "stream",
     "text": [
      "127.0.0.1 - - [14/Aug/2023 10:46:33] \"GET /predict?sentence_en=Hello%20&sentence_de= HTTP/1.1\" 200 -\n"
     ]
    },
    {
     "name": "stdout",
     "output_type": "stream",
     "text": [
      "English: Hello\n",
      "German: \n",
      "English: Hello\n",
      "German: Hallo\n",
      "23/08/14 10:47:08 WARN DAGScheduler: Broadcasting large task binary with size 5.2 MiB\n",
      "23/08/14 10:47:08 WARN DAGScheduler: Broadcasting large task binary with size 5.5 MiB\n"
     ]
    },
    {
     "name": "stderr",
     "output_type": "stream",
     "text": [
      "127.0.0.1 - - [14/Aug/2023 10:47:09] \"GET /predict?sentence_en=Hello&sentence_de= HTTP/1.1\" 200 -\n",
      "127.0.0.1 - - [14/Aug/2023 10:49:26] \"GET /predict?sentence_en=&sentence_de= HTTP/1.1\" 200 -\n"
     ]
    },
    {
     "name": "stdout",
     "output_type": "stream",
     "text": [
      "English: \n",
      "German: \n",
      "English: Hello\n",
      "German: \n",
      "English: Hello\n",
      "German: Hallo\n",
      "23/08/14 10:49:34 WARN DAGScheduler: Broadcasting large task binary with size 5.2 MiB\n",
      "23/08/14 10:49:34 WARN DAGScheduler: Broadcasting large task binary with size 5.5 MiB\n"
     ]
    },
    {
     "name": "stderr",
     "output_type": "stream",
     "text": [
      "127.0.0.1 - - [14/Aug/2023 10:49:35] \"GET /predict?sentence_en=Hello&sentence_de= HTTP/1.1\" 200 -\n"
     ]
    },
    {
     "name": "stdout",
     "output_type": "stream",
     "text": [
      "English: Hello\n",
      "German: \n",
      "English: Hello\n",
      "German: Hallo\n",
      "23/08/14 11:03:30 WARN DAGScheduler: Broadcasting large task binary with size 5.2 MiB\n",
      "23/08/14 11:03:31 WARN DAGScheduler: Broadcasting large task binary with size 5.5 MiB\n"
     ]
    },
    {
     "name": "stderr",
     "output_type": "stream",
     "text": [
      "127.0.0.1 - - [14/Aug/2023 11:03:31] \"GET /predict?sentence_en=Hello&sentence_de= HTTP/1.1\" 200 -\n"
     ]
    },
    {
     "name": "stdout",
     "output_type": "stream",
     "text": [
      "English: Hello\n",
      "German: \n",
      "English: Hello\n",
      "German: Hallo\n",
      "23/08/14 11:04:12 WARN DAGScheduler: Broadcasting large task binary with size 5.2 MiB\n",
      "23/08/14 11:04:12 WARN DAGScheduler: Broadcasting large task binary with size 5.5 MiB\n"
     ]
    },
    {
     "name": "stderr",
     "output_type": "stream",
     "text": [
      "127.0.0.1 - - [14/Aug/2023 11:04:12] \"GET /predict?sentence_en=Hello&sentence_de= HTTP/1.1\" 200 -\n"
     ]
    },
    {
     "name": "stdout",
     "output_type": "stream",
     "text": [
      "English: Hello\n",
      "German: \n",
      "English: Hello\n",
      "German: Hallo\n",
      "23/08/14 11:05:49 WARN DAGScheduler: Broadcasting large task binary with size 5.2 MiB\n",
      "23/08/14 11:05:49 WARN DAGScheduler: Broadcasting large task binary with size 5.5 MiB\n"
     ]
    },
    {
     "name": "stderr",
     "output_type": "stream",
     "text": [
      "127.0.0.1 - - [14/Aug/2023 11:05:49] \"GET /predict?sentence_en=Hello&sentence_de= HTTP/1.1\" 200 -\n"
     ]
    },
    {
     "name": "stdout",
     "output_type": "stream",
     "text": [
      "English: Hello\n",
      "German: \n",
      "English: Hello\n",
      "German: Hallo\n",
      "23/08/14 11:06:17 WARN DAGScheduler: Broadcasting large task binary with size 5.2 MiB\n",
      "23/08/14 11:06:17 WARN DAGScheduler: Broadcasting large task binary with size 5.5 MiB\n"
     ]
    },
    {
     "name": "stderr",
     "output_type": "stream",
     "text": [
      "127.0.0.1 - - [14/Aug/2023 11:06:18] \"GET /predict?sentence_en=Hello&sentence_de= HTTP/1.1\" 200 -\n"
     ]
    },
    {
     "name": "stdout",
     "output_type": "stream",
     "text": [
      "English: Hello\n",
      "German: \n",
      "English: Hello\n",
      "German: Hallo\n",
      "23/08/14 11:08:34 WARN DAGScheduler: Broadcasting large task binary with size 5.2 MiB\n",
      "23/08/14 11:08:34 WARN DAGScheduler: Broadcasting large task binary with size 5.5 MiB\n"
     ]
    },
    {
     "name": "stderr",
     "output_type": "stream",
     "text": [
      "127.0.0.1 - - [14/Aug/2023 11:08:34] \"GET /predict?sentence_en=Hello&sentence_de= HTTP/1.1\" 200 -\n"
     ]
    },
    {
     "name": "stdout",
     "output_type": "stream",
     "text": [
      "English: Hello\n",
      "German: \n",
      "English: Hello\n",
      "German: Hallo\n",
      "23/08/14 11:11:59 WARN DAGScheduler: Broadcasting large task binary with size 5.2 MiB\n",
      "23/08/14 11:11:59 WARN DAGScheduler: Broadcasting large task binary with size 5.5 MiB\n"
     ]
    },
    {
     "name": "stderr",
     "output_type": "stream",
     "text": [
      "127.0.0.1 - - [14/Aug/2023 11:11:59] \"GET /predict?sentence_en=Hello&sentence_de= HTTP/1.1\" 200 -\n"
     ]
    },
    {
     "name": "stdout",
     "output_type": "stream",
     "text": [
      "English: Hello\n",
      "German: \n",
      "English: Hello\n",
      "German: Hallo\n",
      "23/08/14 11:13:49 WARN DAGScheduler: Broadcasting large task binary with size 5.2 MiB\n",
      "23/08/14 11:13:49 WARN DAGScheduler: Broadcasting large task binary with size 5.5 MiB\n"
     ]
    },
    {
     "name": "stderr",
     "output_type": "stream",
     "text": [
      "127.0.0.1 - - [14/Aug/2023 11:13:49] \"GET /predict?sentence_en=Hello&sentence_de= HTTP/1.1\" 200 -\n"
     ]
    },
    {
     "name": "stdout",
     "output_type": "stream",
     "text": [
      "English: Helo\n",
      "German: \n",
      "English: Helo\n",
      "German: Helo\n",
      "23/08/14 11:16:43 WARN DAGScheduler: Broadcasting large task binary with size 5.2 MiB\n",
      "23/08/14 11:16:44 WARN DAGScheduler: Broadcasting large task binary with size 5.5 MiB\n"
     ]
    },
    {
     "name": "stderr",
     "output_type": "stream",
     "text": [
      "127.0.0.1 - - [14/Aug/2023 11:16:44] \"GET /predict?sentence_en=Helo&sentence_de= HTTP/1.1\" 200 -\n"
     ]
    },
    {
     "name": "stdout",
     "output_type": "stream",
     "text": [
      "English: Love\n",
      "German: \n",
      "English: Love\n",
      "German: Liebe\n",
      "23/08/14 11:17:01 WARN DAGScheduler: Broadcasting large task binary with size 5.2 MiB\n",
      "23/08/14 11:17:02 WARN DAGScheduler: Broadcasting large task binary with size 5.5 MiB\n"
     ]
    },
    {
     "name": "stderr",
     "output_type": "stream",
     "text": [
      "127.0.0.1 - - [14/Aug/2023 11:17:02] \"GET /predict?sentence_en=Love&sentence_de= HTTP/1.1\" 200 -\n"
     ]
    },
    {
     "name": "stdout",
     "output_type": "stream",
     "text": [
      "English: Hate\n",
      "German: \n",
      "English: Hate\n",
      "German: Hassen\n",
      "23/08/14 11:17:07 WARN DAGScheduler: Broadcasting large task binary with size 5.2 MiB\n",
      "23/08/14 11:17:08 WARN DAGScheduler: Broadcasting large task binary with size 5.5 MiB\n"
     ]
    },
    {
     "name": "stderr",
     "output_type": "stream",
     "text": [
      "127.0.0.1 - - [14/Aug/2023 11:17:08] \"GET /predict?sentence_en=Hate&sentence_de= HTTP/1.1\" 200 -\n"
     ]
    },
    {
     "name": "stdout",
     "output_type": "stream",
     "text": [
      "English: Hater go home\n",
      "German: \n",
      "English: Hater go home\n",
      "German: Hasser gehen nach Hause\n",
      "23/08/14 11:17:17 WARN DAGScheduler: Broadcasting large task binary with size 5.2 MiB\n",
      "23/08/14 11:17:17 WARN DAGScheduler: Broadcasting large task binary with size 5.5 MiB\n"
     ]
    },
    {
     "name": "stderr",
     "output_type": "stream",
     "text": [
      "127.0.0.1 - - [14/Aug/2023 11:17:18] \"GET /predict?sentence_en=Hater%20go%20home&sentence_de= HTTP/1.1\" 200 -\n",
      "127.0.0.1 - - [14/Aug/2023 11:23:08] \"GET /predict?sentence_en=&sentence_de= HTTP/1.1\" 200 -\n"
     ]
    },
    {
     "name": "stdout",
     "output_type": "stream",
     "text": [
      "English: \n",
      "German: \n",
      "English: Hello World!\n",
      "German: \n",
      "English: Hello World!\n",
      "German: Hallo Welt!\n",
      "23/08/14 11:23:17 WARN DAGScheduler: Broadcasting large task binary with size 5.2 MiB\n",
      "23/08/14 11:23:17 WARN DAGScheduler: Broadcasting large task binary with size 5.5 MiB\n"
     ]
    },
    {
     "name": "stderr",
     "output_type": "stream",
     "text": [
      "127.0.0.1 - - [14/Aug/2023 11:23:17] \"GET /predict?sentence_en=Hello%20World!&sentence_de= HTTP/1.1\" 200 -\n"
     ]
    },
    {
     "name": "stdout",
     "output_type": "stream",
     "text": [
      "English: Hello\n",
      "German: \n",
      "English: Hello\n",
      "German: Hallo\n",
      "23/08/14 11:24:40 WARN DAGScheduler: Broadcasting large task binary with size 5.2 MiB\n",
      "23/08/14 11:24:41 WARN DAGScheduler: Broadcasting large task binary with size 5.5 MiB\n"
     ]
    },
    {
     "name": "stderr",
     "output_type": "stream",
     "text": [
      "127.0.0.1 - - [14/Aug/2023 11:24:41] \"GET /predict?sentence_en=Hello&sentence_de= HTTP/1.1\" 200 -\n"
     ]
    },
    {
     "name": "stdout",
     "output_type": "stream",
     "text": [
      "English: Hello\n",
      "German: \n",
      "English: Hello\n",
      "German: Hallo\n",
      "23/08/14 11:24:44 WARN DAGScheduler: Broadcasting large task binary with size 5.2 MiB\n",
      "23/08/14 11:24:44 WARN DAGScheduler: Broadcasting large task binary with size 5.5 MiB\n"
     ]
    },
    {
     "name": "stderr",
     "output_type": "stream",
     "text": [
      "127.0.0.1 - - [14/Aug/2023 11:24:44] \"GET /predict?sentence_en=Hello&sentence_de= HTTP/1.1\" 200 -\n"
     ]
    },
    {
     "name": "stdout",
     "output_type": "stream",
     "text": [
      "English: Hello World!\n",
      "German: \n",
      "English: Hello World!\n",
      "German: Hallo Welt!\n",
      "23/08/14 11:25:31 WARN DAGScheduler: Broadcasting large task binary with size 5.2 MiB\n",
      "23/08/14 11:25:31 WARN DAGScheduler: Broadcasting large task binary with size 5.5 MiB\n"
     ]
    },
    {
     "name": "stderr",
     "output_type": "stream",
     "text": [
      "127.0.0.1 - - [14/Aug/2023 11:25:31] \"GET /predict?sentence_en=Hello%20World!&sentence_de= HTTP/1.1\" 200 -\n"
     ]
    },
    {
     "name": "stdout",
     "output_type": "stream",
     "text": [
      "English: Hello\n",
      "German: \n",
      "English: Hello\n",
      "German: Hallo\n",
      "23/08/14 11:25:57 WARN DAGScheduler: Broadcasting large task binary with size 5.2 MiB\n",
      "23/08/14 11:25:57 WARN DAGScheduler: Broadcasting large task binary with size 5.5 MiB\n"
     ]
    },
    {
     "name": "stderr",
     "output_type": "stream",
     "text": [
      "127.0.0.1 - - [14/Aug/2023 11:25:57] \"GET /predict?sentence_en=Hello&sentence_de= HTTP/1.1\" 200 -\n"
     ]
    },
    {
     "name": "stdout",
     "output_type": "stream",
     "text": [
      "English: helo\n",
      "German: \n",
      "English: helo\n",
      "German: Helo\n",
      "23/08/14 11:26:17 WARN DAGScheduler: Broadcasting large task binary with size 5.2 MiB\n",
      "23/08/14 11:26:17 WARN DAGScheduler: Broadcasting large task binary with size 5.5 MiB\n"
     ]
    },
    {
     "name": "stderr",
     "output_type": "stream",
     "text": [
      "127.0.0.1 - - [14/Aug/2023 11:26:18] \"GET /predict?sentence_en=helo&sentence_de= HTTP/1.1\" 200 -\n"
     ]
    },
    {
     "name": "stdout",
     "output_type": "stream",
     "text": [
      "English: Hello\n",
      "German: \n",
      "English: Hello\n",
      "German: Hallo\n",
      "23/08/14 11:27:36 WARN DAGScheduler: Broadcasting large task binary with size 5.2 MiB\n",
      "23/08/14 11:27:37 WARN DAGScheduler: Broadcasting large task binary with size 5.5 MiB\n"
     ]
    },
    {
     "name": "stderr",
     "output_type": "stream",
     "text": [
      "127.0.0.1 - - [14/Aug/2023 11:27:37] \"GET /predict?sentence_en=Hello&sentence_de= HTTP/1.1\" 200 -\n"
     ]
    },
    {
     "name": "stdout",
     "output_type": "stream",
     "text": [
      "English: Hello\n",
      "German: \n",
      "English: Hello\n",
      "German: Hallo\n",
      "23/08/14 11:28:24 WARN DAGScheduler: Broadcasting large task binary with size 5.2 MiB\n",
      "23/08/14 11:28:25 WARN DAGScheduler: Broadcasting large task binary with size 5.5 MiB\n"
     ]
    },
    {
     "name": "stderr",
     "output_type": "stream",
     "text": [
      "127.0.0.1 - - [14/Aug/2023 11:28:25] \"GET /predict?sentence_en=Hello&sentence_de= HTTP/1.1\" 200 -\n"
     ]
    },
    {
     "name": "stdout",
     "output_type": "stream",
     "text": [
      "English: I am so happy about this news!\n",
      "German: \n",
      "English: I am so happy about this news!\n",
      "German: Ich freue mich sehr über diese Neuigkeiten!\n",
      "23/08/14 11:29:24 WARN DAGScheduler: Broadcasting large task binary with size 5.2 MiB\n",
      "23/08/14 11:29:24 WARN DAGScheduler: Broadcasting large task binary with size 5.5 MiB\n"
     ]
    },
    {
     "name": "stderr",
     "output_type": "stream",
     "text": [
      "127.0.0.1 - - [14/Aug/2023 11:29:25] \"GET /predict?sentence_en=I%20am%20so%20happy%20about%20this%20news!&sentence_de= HTTP/1.1\" 200 -\n"
     ]
    },
    {
     "name": "stdout",
     "output_type": "stream",
     "text": [
      "English: Hello\n",
      "German: \n",
      "English: Hello\n",
      "German: Hallo\n",
      "23/08/14 11:49:27 WARN DAGScheduler: Broadcasting large task binary with size 5.2 MiB\n",
      "23/08/14 11:49:28 WARN DAGScheduler: Broadcasting large task binary with size 5.5 MiB\n"
     ]
    },
    {
     "name": "stderr",
     "output_type": "stream",
     "text": [
      "127.0.0.1 - - [14/Aug/2023 11:49:28] \"GET /predict?sentence_en=Hello&sentence_de= HTTP/1.1\" 200 -\n"
     ]
    },
    {
     "name": "stdout",
     "output_type": "stream",
     "text": [
      "English: \n",
      "German: Hallo\n",
      "English: Hallo\n",
      "German: Hallo\n",
      "23/08/14 11:49:52 WARN DAGScheduler: Broadcasting large task binary with size 5.2 MiB\n",
      "23/08/14 11:49:53 WARN DAGScheduler: Broadcasting large task binary with size 5.5 MiB\n"
     ]
    },
    {
     "name": "stderr",
     "output_type": "stream",
     "text": [
      "127.0.0.1 - - [14/Aug/2023 11:49:53] \"GET /predict?sentence_en=&sentence_de=Hallo HTTP/1.1\" 200 -\n"
     ]
    },
    {
     "name": "stdout",
     "output_type": "stream",
     "text": [
      "English: \n",
      "German: Good moring\n",
      "English: Good moring\n",
      "German: Good moring\n",
      "23/08/14 11:50:01 WARN DAGScheduler: Broadcasting large task binary with size 5.2 MiB\n",
      "23/08/14 11:50:02 WARN DAGScheduler: Broadcasting large task binary with size 5.5 MiB\n"
     ]
    },
    {
     "name": "stderr",
     "output_type": "stream",
     "text": [
      "127.0.0.1 - - [14/Aug/2023 11:50:02] \"GET /predict?sentence_en=&sentence_de=Good%20moring HTTP/1.1\" 200 -\n"
     ]
    },
    {
     "name": "stdout",
     "output_type": "stream",
     "text": [
      "English: \n",
      "German: I glaube wir sind gut\n",
      "English: I think we are good\n",
      "German: I glaube wir sind gut\n",
      "23/08/14 11:50:31 WARN DAGScheduler: Broadcasting large task binary with size 5.2 MiB\n",
      "23/08/14 11:50:31 WARN DAGScheduler: Broadcasting large task binary with size 5.5 MiB\n"
     ]
    },
    {
     "name": "stderr",
     "output_type": "stream",
     "text": [
      "127.0.0.1 - - [14/Aug/2023 11:50:32] \"GET /predict?sentence_en=&sentence_de=I%20glaube%20wir%20sind%20gut HTTP/1.1\" 200 -\n"
     ]
    },
    {
     "name": "stdout",
     "output_type": "stream",
     "text": [
      "English: I am so happy about this news!\n",
      "German: \n",
      "English: I am so happy about this news!\n",
      "German: Ich freue mich sehr über diese Neuigkeiten!\n",
      "23/08/14 11:52:37 WARN DAGScheduler: Broadcasting large task binary with size 5.2 MiB\n",
      "23/08/14 11:52:37 WARN DAGScheduler: Broadcasting large task binary with size 5.5 MiB\n"
     ]
    },
    {
     "name": "stderr",
     "output_type": "stream",
     "text": [
      "127.0.0.1 - - [14/Aug/2023 11:52:37] \"GET /predict?sentence_en=I%20am%20so%20happy%20about%20this%20news!&sentence_de= HTTP/1.1\" 200 -\n"
     ]
    },
    {
     "name": "stdout",
     "output_type": "stream",
     "text": [
      "English: Helo\n",
      "German: \n",
      "English: Helo\n",
      "German: Helo\n",
      "23/08/14 11:58:19 WARN DAGScheduler: Broadcasting large task binary with size 5.2 MiB\n",
      "23/08/14 11:58:19 WARN DAGScheduler: Broadcasting large task binary with size 5.5 MiB\n"
     ]
    },
    {
     "name": "stderr",
     "output_type": "stream",
     "text": [
      "127.0.0.1 - - [14/Aug/2023 11:58:20] \"GET /predict?sentence_en=Helo&sentence_de= HTTP/1.1\" 200 -\n"
     ]
    },
    {
     "name": "stdout",
     "output_type": "stream",
     "text": [
      "English: I am so happy about this news!\n",
      "German: \n",
      "English: I am so happy about this news!\n",
      "German: Ich freue mich sehr über diese Neuigkeiten!\n",
      "23/08/14 11:58:30 WARN DAGScheduler: Broadcasting large task binary with size 5.2 MiB\n",
      "23/08/14 11:58:30 WARN DAGScheduler: Broadcasting large task binary with size 5.5 MiB\n"
     ]
    },
    {
     "name": "stderr",
     "output_type": "stream",
     "text": [
      "127.0.0.1 - - [14/Aug/2023 11:58:30] \"GET /predict?sentence_en=I%20am%20so%20happy%20about%20this%20news!&sentence_de= HTTP/1.1\" 200 -\n"
     ]
    },
    {
     "name": "stdout",
     "output_type": "stream",
     "text": [
      "English: \n",
      "German: Ich freue mich sehr über diese Neuigkeiten!\n",
      "English: I am very happy about these news!\n",
      "German: Ich freue mich sehr über diese Neuigkeiten!\n",
      "23/08/14 11:58:54 WARN DAGScheduler: Broadcasting large task binary with size 5.2 MiB\n",
      "23/08/14 11:58:54 WARN DAGScheduler: Broadcasting large task binary with size 5.5 MiB\n"
     ]
    },
    {
     "name": "stderr",
     "output_type": "stream",
     "text": [
      "127.0.0.1 - - [14/Aug/2023 11:58:55] \"GET /predict?sentence_en=&sentence_de=Ich%20freue%20mich%20sehr%20über%20diese%20Neuigkeiten! HTTP/1.1\" 200 -\n"
     ]
    },
    {
     "name": "stdout",
     "output_type": "stream",
     "text": [
      "English: \n",
      "German: Ich freue mich sehr über diese welt\n",
      "English: I am very happy about this world\n",
      "German: Ich freue mich sehr über diese welt\n",
      "23/08/14 11:59:14 WARN DAGScheduler: Broadcasting large task binary with size 5.2 MiB\n",
      "23/08/14 11:59:14 WARN DAGScheduler: Broadcasting large task binary with size 5.5 MiB\n"
     ]
    },
    {
     "name": "stderr",
     "output_type": "stream",
     "text": [
      "127.0.0.1 - - [14/Aug/2023 11:59:14] \"GET /predict?sentence_en=&sentence_de=Ich%20freue%20mich%20sehr%20über%20diese%20welt HTTP/1.1\" 200 -\n"
     ]
    },
    {
     "name": "stdout",
     "output_type": "stream",
     "text": [
      "English: I am very happy about this world\n",
      "German: \n",
      "English: I am very happy about this world\n",
      "German: Ich freue mich sehr über diese Welt\n",
      "23/08/14 11:59:51 WARN DAGScheduler: Broadcasting large task binary with size 5.2 MiB\n",
      "23/08/14 11:59:52 WARN DAGScheduler: Broadcasting large task binary with size 5.5 MiB\n"
     ]
    },
    {
     "name": "stderr",
     "output_type": "stream",
     "text": [
      "127.0.0.1 - - [14/Aug/2023 11:59:52] \"GET /predict?sentence_en=I%20am%20very%20happy%20about%20this%20world&sentence_de= HTTP/1.1\" 200 -\n"
     ]
    },
    {
     "name": "stdout",
     "output_type": "stream",
     "text": [
      "English: I am so happy about this news!\n",
      "German: \n",
      "English: I am so happy about this news!\n",
      "German: Ich freue mich sehr über diese Neuigkeiten!\n",
      "23/08/14 12:00:11 WARN DAGScheduler: Broadcasting large task binary with size 5.2 MiB\n",
      "23/08/14 12:00:12 WARN DAGScheduler: Broadcasting large task binary with size 5.5 MiB\n"
     ]
    },
    {
     "name": "stderr",
     "output_type": "stream",
     "text": [
      "127.0.0.1 - - [14/Aug/2023 12:00:12] \"GET /predict?sentence_en=I%20am%20so%20happy%20about%20this%20news!&sentence_de= HTTP/1.1\" 200 -\n"
     ]
    }
   ],
   "source": [
    "# Setup API \n",
    "from flask import Flask, request, jsonify\n",
    "from flask_cors import CORS\n",
    "from googletrans import Translator\n",
    "\n",
    "# Setup\n",
    "from transformers import DistilBertTokenizer\n",
    "from pyspark.ml.pipeline import PipelineModel\n",
    "\n",
    "# Add Numerical Label for Emotions\n",
    "emotion_key = {\n",
    "    \"boredom\": 0,\n",
    "    \"love\": 1,\n",
    "    \"relief\": 2,\n",
    "    \"fun\": 3,\n",
    "    \"hate\": 4,\n",
    "    \"neutral\": 5,\n",
    "    \"anger\": 6,\n",
    "    \"happiness\": 7,\n",
    "    \"surprise\": 8,\n",
    "    \"sadness\": 9,\n",
    "    \"worry\": 10,\n",
    "    \"enthusiasm\": 11,\n",
    "    \"empty\": 12,\n",
    "    \"---\": 13\n",
    "}\n",
    "\n",
    "# Initialize the AutoTokenizer\n",
    "tokenizer = DistilBertTokenizer.from_pretrained(\"distilbert-base-multilingual-cased\")\n",
    "\n",
    "# Load Saved Models\n",
    "model_en_rfc = PipelineModel.load(\"./models/model_en_rfc.model\")\n",
    "model_en_nb = PipelineModel.load(\"./models/model_en_nb.model\")\n",
    "model_en_lr = PipelineModel.load(\"./models/model_en_lr.model\")\n",
    "model_de_rfc = PipelineModel.load(\"./models/model_de_rfc.model\")\n",
    "model_de_nb = PipelineModel.load(\"./models/model_de_nb.model\")\n",
    "model_de_lr = PipelineModel.load(\"./models/model_de_lr.model\")\n",
    "\n",
    "\n",
    "app = Flask(__name__)\n",
    "CORS(app)  # Use the CORS class to enable CORS for the entire app\n",
    "translator = Translator()\n",
    "\n",
    "# Setup Emotion Key Reverse\n",
    "emotions = {v: k for k, v in emotion_key.items()}\n",
    "\n",
    "@app.route('/predict', methods=['GET'])\n",
    "def transform_data():\n",
    "    sentence_en = request.args.get('sentence_en')\n",
    "    sentence_de = request.args.get('sentence_de')\n",
    "    \n",
    "    print(f\"English: {sentence_en}\")\n",
    "    print(f\"German: {sentence_de}\")\n",
    "    \n",
    "    if sentence_en:\n",
    "        sentence_de = translator.translate(sentence_en, dest=\"de\").text\n",
    "    elif sentence_de:\n",
    "        sentence_en = translator.translate(sentence_de, dest=\"en\").text\n",
    "    else:\n",
    "        return jsonify({'error': 'No Sentence provided!'})\n",
    "    \n",
    "    print(f\"English: {sentence_en}\")\n",
    "    print(f\"German: {sentence_de}\")\n",
    "    \n",
    "    words_en = tokenizer.tokenize(sentence_en)\n",
    "    words_de = tokenizer.tokenize(sentence_de)\n",
    "\n",
    "    # Create Englsih & German Dataframe\n",
    "    df_en_api = sc.createDataFrame([(sentence_en, words_en)], [\"sentence\", \"words\"])\n",
    "    df_de_api = sc.createDataFrame([(sentence_de, words_de)], [\"sentence\", \"words\"])\n",
    "    \n",
    "    predictions_en_rfc = model_en_rfc.transform(df_en_api)\n",
    "    predictions_en_nb = model_en_nb.transform(df_en_api)\n",
    "    predictions_en_lr = model_en_lr.transform(df_en_api)\n",
    "    predictions_de_rfc = model_de_rfc.transform(df_de_api)\n",
    "    predictions_de_nb = model_de_nb.transform(df_de_api)\n",
    "    predictions_de_lr = model_de_lr.transform(df_de_api)\n",
    "    \n",
    "    #Build Response\n",
    "    resp = {\n",
    "        \"sentence\": {\n",
    "            \"english\": sentence_en,\n",
    "            \"german\": sentence_de,\n",
    "        },\n",
    "        \"predictions\": {\n",
    "            \"en_rfc\": emotions.get(predictions_en_rfc.collect()[0][\"prediction\"]),\n",
    "            \"en_nb\":  emotions.get(predictions_en_nb.collect()[0][\"prediction\"]),\n",
    "            \"en_lr\":  emotions.get(predictions_en_lr.collect()[0][\"prediction\"]),\n",
    "            \"de_rfc\": emotions.get(predictions_de_rfc.collect()[0][\"prediction\"]),\n",
    "            \"de_nb\":  emotions.get(predictions_de_nb.collect()[0][\"prediction\"]),\n",
    "            \"de_lr\":  emotions.get(predictions_de_lr.collect()[0][\"prediction\"]),\n",
    "        },\n",
    "    }\n",
    "    \n",
    "    return jsonify(resp)\n",
    "\n",
    "if __name__ == '__main__':\n",
    "    app.run(host='127.0.0.1', port=8080)\n"
   ]
  },
  {
   "cell_type": "code",
   "execution_count": null,
   "id": "26866261",
   "metadata": {},
   "outputs": [],
   "source": []
  }
 ],
 "metadata": {
  "kernelspec": {
   "display_name": "Python 3 (ipykernel)",
   "language": "python",
   "name": "python3"
  },
  "language_info": {
   "codemirror_mode": {
    "name": "ipython",
    "version": 3
   },
   "file_extension": ".py",
   "mimetype": "text/x-python",
   "name": "python",
   "nbconvert_exporter": "python",
   "pygments_lexer": "ipython3",
   "version": "3.10.9"
  }
 },
 "nbformat": 4,
 "nbformat_minor": 5
}
