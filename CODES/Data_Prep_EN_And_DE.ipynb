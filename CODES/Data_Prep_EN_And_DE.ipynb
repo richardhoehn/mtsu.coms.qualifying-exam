{
 "cells": [
  {
   "cell_type": "code",
   "execution_count": 10,
   "id": "00ad16b7",
   "metadata": {},
   "outputs": [],
   "source": [
    "# *********************\n",
    "# *** Setup Section ***\n",
    "# *********************\n",
    "\n",
    "import pandas as pd\n",
    "\n",
    "# Emtion DataFram\n",
    "# This was predtermined by review of the emotion from English to German\n",
    "emotion_key = {\n",
    "    \"boredom\": \"---\",\n",
    "    \"love\": \"Vertrauen\",\n",
    "    \"relief\": \"---\",\n",
    "    \"fun\": \"---\",\n",
    "    \"hate\": \"Ekel\",\n",
    "    \"neutral\": \"Unklar\",\n",
    "    \"anger\": \"Ärger\",\n",
    "    \"happiness\": \"Freude\",\n",
    "    \"surprise\": \"Überraschung\",\n",
    "    \"sadness\": \"Traurigkeit\",\n",
    "    \"worry\": \"Angst\",\n",
    "    \"enthusiasm\": \"Antizipation\",\n",
    "    \"empty \": \"---\",\n",
    "    \"---\": \"Keine\"\n",
    "}\n",
    "\n",
    "# Create a DataFrame from the emotion_key dictionary\n",
    "df_emotions = pd.DataFrame(emotion_key.items(), columns=['emotion_en', 'emotion_de'])\n",
    "\n",
    "\n",
    "# *******************\n",
    "# *** Translation ***\n",
    "# *******************\n",
    "from googletrans import Translator\n",
    "import time\n",
    "\n",
    "# This google API take a Sentence and converts to German\n",
    "def translate(sentence, dest_lang):\n",
    "    try:\n",
    "        translator = Translator()\n",
    "        translator.raise_Exception = True\n",
    "        translation = translator.translate(sentence, dest=dest_lang)\n",
    "        time.sleep(0.5)  # Add a 1-second delay\n",
    "        return translation.text\n",
    "    except Exception as e:\n",
    "        print(f\"Translation Error: {e}\")\n",
    "        return None\n"
   ]
  },
  {
   "cell_type": "code",
   "execution_count": 7,
   "id": "301c902f",
   "metadata": {},
   "outputs": [
    {
     "name": "stdout",
     "output_type": "stream",
     "text": [
      "Count (raw): 40000\n",
      "English Source Columns: Index(['tweet_id', 'sentiment', 'content'], dtype='object')\n",
      "\n"
     ]
    },
    {
     "name": "stderr",
     "output_type": "stream",
     "text": [
      "100%|██████████████████████████████████████████████████████████████████████████████████████████████████████████████████████████████████████████| 1500/1500 [1:07:57<00:00,  2.72s/it]\n"
     ]
    }
   ],
   "source": [
    "# *********************************\n",
    "# *** English Data Preparations ***\n",
    "# *********************************\n",
    "\n",
    "import pandas as pd\n",
    "from tqdm import tqdm\n",
    "\n",
    "\n",
    "# Load English CSV File into a Dataframe\n",
    "df_en = pd.read_csv(\"data/english.csv\")\n",
    "print(f'Count (raw): {len(df_en)}')\n",
    "\n",
    "# Print Columns\n",
    "print(f'English Source Columns: {df_en.columns}\\n')\n",
    "\n",
    "# Filter only labels that we matched with the German counter part JSON File\n",
    "filter_values = [\"love\", \"hate\", \"neutral\", \"anger\", \"happiness\", \"surprise\", \"sadness\", \"worry\", \"enthusiasm\"]\n",
    "df_en = df_en[df_en[\"sentiment\"].isin(filter_values)]\n",
    "\n",
    "# Find Empty Sentence Values\n",
    "df_en = df_en[df_en[\"content\"].notnull() & (df_en[\"content\"].str.strip() != '')]\n",
    "\n",
    "# Remove unnecessary column\n",
    "df_en = df_en.drop(\"tweet_id\", axis=1)\n",
    "\n",
    "# Rename Columns\n",
    "df_en = df_en.rename(columns = {'sentiment': 'emotion_en', 'content': 'sentence_en'})\n",
    "\n",
    "# Merge German Emotions onto English\n",
    "df_en = pd.merge(df_en, df_emotions, on='emotion_en', how='left')\n",
    "\n",
    "# Add German Sentence Column\n",
    "df_en[\"sentence_de\"] = \"\"\n",
    "\n",
    "# Randomly select 1500 rows\n",
    "df_en = df_en.sample(n=1500, random_state=2023)\n",
    "\n",
    "df_en.to_csv('./data/pd_en.csv', index=False)\n",
    "\n",
    "\n",
    "# Iterate over the rows with tqdm to show the progress\n",
    "for index, row in tqdm(df_en.iterrows(), total=df_en.shape[0]):\n",
    "    # Call Translation\n",
    "    sentence = translate(row[\"sentence_en\"], 'de')\n",
    "    # Save Sentence on Column\n",
    "    df_en.at[index, 'sentence_de'] = sentence\n",
    "\n",
    "\n",
    "df_en.to_csv('./data/pd_en_translated.csv', index=False)"
   ]
  },
  {
   "cell_type": "code",
   "execution_count": 11,
   "id": "74b092bd",
   "metadata": {},
   "outputs": [
    {
     "name": "stdout",
     "output_type": "stream",
     "text": [
      "Count (raw): 1970\n",
      "German Source Columns: Index(['article_id', 'title', 'snippet', 'source', 'article_stance',\n",
      "       'article_emotion', 'paragraphs'],\n",
      "      dtype='object')\n",
      "\n"
     ]
    },
    {
     "name": "stderr",
     "output_type": "stream",
     "text": [
      " 39%|██████████████████████████████████████████████████████                                                                                     | 583/1500 [11:24<1:21:22,  5.32s/it]"
     ]
    },
    {
     "name": "stdout",
     "output_type": "stream",
     "text": [
      "Translation Error: The read operation timed out\n"
     ]
    },
    {
     "name": "stderr",
     "output_type": "stream",
     "text": [
      " 83%|████████████████████████████████████████████████████████████████████████████████████████████████████████████████████▊                       | 1252/1500 [28:47<16:11,  3.92s/it]"
     ]
    },
    {
     "name": "stdout",
     "output_type": "stream",
     "text": [
      "Translation Error: _ssl.c:980: The handshake operation timed out\n"
     ]
    },
    {
     "name": "stderr",
     "output_type": "stream",
     "text": [
      " 86%|█████████████████████████████████████████████████████████████████████████████████████████████████████████████████████████                   | 1297/1500 [31:01<18:47,  5.56s/it]"
     ]
    },
    {
     "name": "stdout",
     "output_type": "stream",
     "text": [
      "Translation Error: _ssl.c:980: The handshake operation timed out\n"
     ]
    },
    {
     "name": "stderr",
     "output_type": "stream",
     "text": [
      "\r",
      " 87%|█████████████████████████████████████████████████████████████████████████████████████████████████████████████████████████▏                  | 1298/1500 [31:08<19:48,  5.88s/it]"
     ]
    },
    {
     "name": "stdout",
     "output_type": "stream",
     "text": [
      "Translation Error: The read operation timed out\n"
     ]
    },
    {
     "name": "stderr",
     "output_type": "stream",
     "text": [
      "\r",
      " 87%|█████████████████████████████████████████████████████████████████████████████████████████████████████████████████████████▏                  | 1299/1500 [31:19<24:37,  7.35s/it]"
     ]
    },
    {
     "name": "stdout",
     "output_type": "stream",
     "text": [
      "Translation Error: The read operation timed out\n"
     ]
    },
    {
     "name": "stderr",
     "output_type": "stream",
     "text": [
      " 88%|███████████████████████████████████████████████████████████████████████████████████████████████████████████████████████████                 | 1319/1500 [32:40<19:56,  6.61s/it]"
     ]
    },
    {
     "name": "stdout",
     "output_type": "stream",
     "text": [
      "Translation Error: The read operation timed out\n"
     ]
    },
    {
     "name": "stderr",
     "output_type": "stream",
     "text": [
      " 89%|█████████████████████████████████████████████████████████████████████████████████████████████████████████████████████████████▏              | 1341/1500 [33:46<10:45,  4.06s/it]"
     ]
    },
    {
     "name": "stdout",
     "output_type": "stream",
     "text": [
      "Translation Error: The read operation timed out\n"
     ]
    },
    {
     "name": "stderr",
     "output_type": "stream",
     "text": [
      "\r",
      " 89%|█████████████████████████████████████████████████████████████████████████████████████████████████████████████████████████████▎              | 1342/1500 [33:56<15:44,  5.98s/it]"
     ]
    },
    {
     "name": "stdout",
     "output_type": "stream",
     "text": [
      "Translation Error: The read operation timed out\n"
     ]
    },
    {
     "name": "stderr",
     "output_type": "stream",
     "text": [
      " 90%|██████████████████████████████████████████████████████████████████████████████████████████████████████████████████████████████              | 1351/1500 [34:30<10:47,  4.34s/it]"
     ]
    },
    {
     "name": "stdout",
     "output_type": "stream",
     "text": [
      "Translation Error: _ssl.c:980: The handshake operation timed out\n"
     ]
    },
    {
     "name": "stderr",
     "output_type": "stream",
     "text": [
      "100%|████████████████████████████████████████████████████████████████████████████████████████████████████████████████████████████████████████████| 1500/1500 [39:01<00:00,  1.56s/it]\n"
     ]
    }
   ],
   "source": [
    "# *********************************\n",
    "# *** German Data Preparations ***\n",
    "# *********************************\n",
    "\n",
    "import pandas as pd\n",
    "from tqdm import tqdm\n",
    "\n",
    "\n",
    "# Load German JSON File into a DataFrame\n",
    "df_de = pd.read_json(\"data/german.json\", lines=True)\n",
    "print(f'Count (raw): {len(df_de)}')\n",
    "\n",
    "# Print Columns\n",
    "print(f'German Source Columns: {df_de.columns}\\n')\n",
    "\n",
    "# Explode the \"article_emotion\" column to distinct rows\n",
    "df_de = df_de.explode('article_emotion')\n",
    "\n",
    "# Filter only labels that we matched with the German counter part JSON File\n",
    "filter_values = [\"Vertrauen\",\"Ekel\", \"Unklar\", \"Ärger\", \"Freude\", \"Überraschung\", \"Traurigkeit\", \"Angst\", \"Antizipation\"]\n",
    "df_de = df_de[df_de[\"article_emotion\"].isin(filter_values)]\n",
    "\n",
    "# Find Empty Sentence Values\n",
    "df_de = df_de[df_de[\"title\"].notnull() & (df_de[\"title\"].str.strip() != '')]\n",
    "\n",
    "# Remove unnecessary columns\n",
    "df_de = df_de.drop(\"article_id\", axis=1)\n",
    "df_de = df_de.drop(\"article_stance\", axis=1)\n",
    "df_de = df_de.drop(\"paragraphs\", axis=1)\n",
    "df_de = df_de.drop(\"source\", axis=1)\n",
    "df_de = df_de.drop(\"snippet\", axis=1)\n",
    "\n",
    "# Rename Columns\n",
    "df_de = df_de.rename(columns={'title': 'sentence_de'})\n",
    "df_de = df_de.rename(columns={'article_emotion': 'emotion_de'})\n",
    "\n",
    "# Merge Englsih Emotions onto German\n",
    "df_de = pd.merge(df_de, df_emotions, on='emotion_de', how='left')\n",
    "\n",
    "# Add English Sentence Column\n",
    "df_de[\"sentence_en\"] = \"\"\n",
    "\n",
    "# Randomly select 1500 rows\n",
    "df_de = df_de.sample(n=1500, random_state=2023)\n",
    "\n",
    "df_de.to_csv('./data/pd_de.csv', index=False)\n",
    "\n",
    "\n",
    "# Iterate over the rows with tqdm to show the progress\n",
    "for index, row in tqdm(df_de.iterrows(), total=df_de.shape[0]):\n",
    "    # Call Translation\n",
    "    sentence = translate(row[\"sentence_de\"], 'en')\n",
    "    # Save Sentence on Column\n",
    "    df_de.at[index, 'sentence_en'] = sentence\n",
    "\n",
    "\n",
    "df_de.to_csv('./data/pd_de_translated.csv', index=False)"
   ]
  },
  {
   "cell_type": "code",
   "execution_count": 5,
   "id": "c1d2d036",
   "metadata": {},
   "outputs": [
    {
     "data": {
      "text/plain": [
       "'Hallo'"
      ]
     },
     "execution_count": 5,
     "metadata": {},
     "output_type": "execute_result"
    }
   ],
   "source": [
    "translate(\"Hallo\", 'en')"
   ]
  },
  {
   "cell_type": "code",
   "execution_count": null,
   "id": "97185084",
   "metadata": {},
   "outputs": [],
   "source": []
  }
 ],
 "metadata": {
  "kernelspec": {
   "display_name": "Python 3 (ipykernel)",
   "language": "python",
   "name": "python3"
  },
  "language_info": {
   "codemirror_mode": {
    "name": "ipython",
    "version": 3
   },
   "file_extension": ".py",
   "mimetype": "text/x-python",
   "name": "python",
   "nbconvert_exporter": "python",
   "pygments_lexer": "ipython3",
   "version": "3.10.9"
  }
 },
 "nbformat": 4,
 "nbformat_minor": 5
}
