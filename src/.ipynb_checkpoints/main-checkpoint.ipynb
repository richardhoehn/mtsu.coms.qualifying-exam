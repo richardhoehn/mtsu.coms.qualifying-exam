{
 "cells": [
  {
   "cell_type": "code",
   "execution_count": 1,
   "id": "6da959ca",
   "metadata": {},
   "outputs": [
    {
     "name": "stderr",
     "output_type": "stream",
     "text": [
      "Setting default log level to \"WARN\".\n",
      "To adjust logging level use sc.setLogLevel(newLevel). For SparkR, use setLogLevel(newLevel).\n"
     ]
    },
    {
     "name": "stdout",
     "output_type": "stream",
     "text": [
      "23/07/17 19:34:58 WARN NativeCodeLoader: Unable to load native-hadoop library for your platform... using builtin-java classes where applicable\n",
      "Spark V:  3.3.2\n"
     ]
    }
   ],
   "source": [
    "# Setup Spark Session\n",
    "# Spark Session Name: Assingment07\n",
    "from pyspark.sql import SparkSession\n",
    "\n",
    "# Get Imports Needed\n",
    "from pyspark.sql.functions import col, udf\n",
    "\n",
    "# Get Datatypes needed for DataFrame manipulation\n",
    "from pyspark.sql.types import IntegerType, StringType\n",
    "\n",
    "# Setup Spark Session\n",
    "sc = SparkSession \\\n",
    "        .builder \\\n",
    "        .master(\"local[*]\") \\\n",
    "        .appName(\"Qualyfing-Exam\") \\\n",
    "        .getOrCreate()\n",
    "\n",
    "# Print Spark Version being run\n",
    "print(\"Spark V: \", sc.version)"
   ]
  },
  {
   "cell_type": "code",
   "execution_count": 5,
   "id": "ea0a3475",
   "metadata": {},
   "outputs": [
    {
     "name": "stdout",
     "output_type": "stream",
     "text": [
      "English Row Count: 40000\n",
      "German Row Count: 1970\n"
     ]
    }
   ],
   "source": [
    "# Read the English & German Datasets\n",
    "df_english = sc.read.csv(\"data/english.csv\", header=True, inferSchema=True)\n",
    "df_german = sc.read.json(\"data/german.json\")\n",
    "\n",
    "print(f\"English Row Count: {df_english.count()}\")\n",
    "print(f\"German Row Count: {df_german.count()}\")"
   ]
  },
  {
   "cell_type": "code",
   "execution_count": 12,
   "id": "ee402d00",
   "metadata": {},
   "outputs": [
    {
     "data": {
      "text/plain": [
       "['article_emotion',\n",
       " 'article_id',\n",
       " 'article_stance',\n",
       " 'paragraphs',\n",
       " 'snippet',\n",
       " 'source',\n",
       " 'title']"
      ]
     },
     "execution_count": 12,
     "metadata": {},
     "output_type": "execute_result"
    }
   ],
   "source": [
    "df_english.columns\n",
    "df_german.columns"
   ]
  },
  {
   "cell_type": "code",
   "execution_count": 13,
   "id": "3c23caa4",
   "metadata": {},
   "outputs": [
    {
     "name": "stdout",
     "output_type": "stream",
     "text": [
      "+----------+----------+--------------------+\n",
      "|  tweet_id| sentiment|             content|\n",
      "+----------+----------+--------------------+\n",
      "|1956967341|     empty|@tiffanylue i kno...|\n",
      "|1956967666|   sadness|Layin n bed with ...|\n",
      "|1956967696|   sadness|Funeral ceremony....|\n",
      "|1956967789|enthusiasm|wants to hang out...|\n",
      "|1956968416|   neutral|@dannycastillo We...|\n",
      "|1956968477|     worry|Re-pinging @ghost...|\n",
      "|1956968487|   sadness|I should be sleep...|\n",
      "|1956968636|     worry|Hmmm. http://www....|\n",
      "|1956969035|   sadness|@charviray Charle...|\n",
      "|1956969172|   sadness|@kelcouch I'm sor...|\n",
      "+----------+----------+--------------------+\n",
      "only showing top 10 rows\n",
      "\n"
     ]
    }
   ],
   "source": [
    "df_english.show(10)"
   ]
  },
  {
   "cell_type": "code",
   "execution_count": 14,
   "id": "ed94916e",
   "metadata": {},
   "outputs": [
    {
     "name": "stdout",
     "output_type": "stream",
     "text": [
      "+---------------+----------+--------------------+--------------------+--------------------+------+--------------------+\n",
      "|article_emotion|article_id|      article_stance|          paragraphs|             snippet|source|               title|\n",
      "+---------------+----------+--------------------+--------------------+--------------------+------+--------------------+\n",
      "|       [Freude]|ld.1335892|[{Medizin/Gesundh...|[{[Freude], Öster...|Als eines der let...|   NZZ|Österreichs Verfa...|\n",
      "| [Überraschung]|ld.1423922|[{Umwelt, Sollen ...|[{[Freude], Ich b...|Die Leistungsgese...|   NZZ|Noch nie arbeitet...|\n",
      "|        [Ärger]|ld.1488102|[{Medizin/Gesundh...|[{[Ärger], Die Ki...|Als erste Kindert...|   NZZ|Masern: Erste Kin...|\n",
      "|        [Ärger]|ld.1418266|[{Religion/Weltan...|[{[Unklar], Da ha...|Der Staat müsste ...|   NZZ|Der Staat ist sch...|\n",
      "|  [Traurigkeit]|ld.1464431|[{Medizin/Gesundh...|[{[Angst], Ein be...|Auf den Strassen ...|   NZZ|Von Viagra bis An...|\n",
      "|        [Ärger]|ld.1402789|[{Religion/Weltan...|[{[Ärger], Wer si...|Wer jeden kritisc...|   NZZ|Auch Islam-Kritik...|\n",
      "|       [Unklar]|ld.1402033|[{Medizin/Gesundh...|[{[Vertrauen], Al...|Anne-Marie bekomm...|   NZZ|Die Kinder von 50...|\n",
      "|       [Unklar]|ld.1526507|[{Wissenschaft/Te...|[{[Ärger], Es ist...|Vor einer knappen...|   NZZ|«Es war nicht mei...|\n",
      "|       [Freude]|ld.1471949|[{Umwelt, Sollen ...|[{[Freude], Die K...|Die Krankenversic...|   NZZ|Visana gewinnt er...|\n",
      "|       [Unklar]|ld.1350830|[{Religion/Weltan...|[{[Keine], Folgen...|Was bedeuten die ...|   NZZ|Umweltrisiken am ...|\n",
      "+---------------+----------+--------------------+--------------------+--------------------+------+--------------------+\n",
      "only showing top 10 rows\n",
      "\n"
     ]
    }
   ],
   "source": [
    "df_german.show(10)"
   ]
  },
  {
   "cell_type": "code",
   "execution_count": 19,
   "id": "0322dce8",
   "metadata": {},
   "outputs": [
    {
     "name": "stdout",
     "output_type": "stream",
     "text": [
      "+----------+-----+\n",
      "| sentiment|count|\n",
      "+----------+-----+\n",
      "|   boredom|  179|\n",
      "|      love| 3842|\n",
      "|    relief| 1526|\n",
      "|       fun| 1776|\n",
      "|      hate| 1323|\n",
      "|   neutral| 8638|\n",
      "|     anger|  110|\n",
      "| happiness| 5209|\n",
      "|  surprise| 2187|\n",
      "|   sadness| 5165|\n",
      "|     worry| 8459|\n",
      "|enthusiasm|  759|\n",
      "|     empty|  827|\n",
      "+----------+-----+\n",
      "\n",
      "+----------------------------------+-----+\n",
      "|article_emotion                   |count|\n",
      "+----------------------------------+-----+\n",
      "|[Ärger, Antizipation, Traurigkeit]|1    |\n",
      "|[Überraschung, Vertrauen]         |14   |\n",
      "|[Überraschung, Freude]            |15   |\n",
      "|[Ärger, Vertrauen]                |7    |\n",
      "|[Ekel, Traurigkeit]               |4    |\n",
      "|[Keine, Antizipation]             |5    |\n",
      "|[Vertrauen]                       |130  |\n",
      "|[Freude]                          |58   |\n",
      "|[Ärger, Antizipation]             |31   |\n",
      "|[Ärger]                           |114  |\n",
      "|[Überraschung]                    |154  |\n",
      "|[Antizipation, Traurigkeit]       |15   |\n",
      "|[Antizipation, Freude, Vertrauen] |2    |\n",
      "|[Vertrauen, Angst]                |5    |\n",
      "|[Traurigkeit]                     |101  |\n",
      "|[Antizipation]                    |413  |\n",
      "|[Traurigkeit, Vertrauen]          |7    |\n",
      "|[Antizipation, Vertrauen]         |104  |\n",
      "|[Ärger, Traurigkeit, Angst]       |1    |\n",
      "|[Unklar]                          |314  |\n",
      "+----------------------------------+-----+\n",
      "only showing top 20 rows\n",
      "\n"
     ]
    }
   ],
   "source": [
    "# Group by a column and count the occurrences in df_english\n",
    "count_english = df_english.groupBy('sentiment').count()\n",
    "\n",
    "# Show the result for df_english\n",
    "count_english.show()\n",
    "\n",
    "# Group by a column and count the occurrences in df_german\n",
    "count_german = df_german.groupBy('article_emotion').count()\n",
    "\n",
    "# Show the result for df_german\n",
    "count_german.show(truncate=0)"
   ]
  },
  {
   "cell_type": "code",
   "execution_count": 21,
   "id": "797b3673",
   "metadata": {},
   "outputs": [
    {
     "name": "stdout",
     "output_type": "stream",
     "text": [
      "Schokoladenmilch schmeckt durch einen Strohhalm viel besser.\n",
      "Chocolate milk tastes much better through a straw.\n"
     ]
    }
   ],
   "source": [
    "from deep_translator import GoogleTranslator\n",
    "\n",
    "sentence = 'Chocolate milk is so much better through a straw.'\n",
    "\n",
    "translated = GoogleTranslator(source='auto', target='de').translate(sentence)\n",
    "print(translated) # Schokoladenmilch schmeckt durch einen Strohhalm viel besser.\n",
    "\n",
    "translated_back = GoogleTranslator(source='auto', target='en').translate(translated)\n",
    "print(translated_back) # Chocolate milk tastes much better through a straw."
   ]
  },
  {
   "cell_type": "code",
   "execution_count": null,
   "id": "1c02e8e5",
   "metadata": {},
   "outputs": [],
   "source": []
  }
 ],
 "metadata": {
  "kernelspec": {
   "display_name": "Python 3 (ipykernel)",
   "language": "python",
   "name": "python3"
  },
  "language_info": {
   "codemirror_mode": {
    "name": "ipython",
    "version": 3
   },
   "file_extension": ".py",
   "mimetype": "text/x-python",
   "name": "python",
   "nbconvert_exporter": "python",
   "pygments_lexer": "ipython3",
   "version": "3.10.9"
  }
 },
 "nbformat": 4,
 "nbformat_minor": 5
}
