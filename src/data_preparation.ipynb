{
 "cells": [
  {
   "cell_type": "code",
   "execution_count": 1,
   "id": "0eff5bdb",
   "metadata": {},
   "outputs": [
    {
     "name": "stderr",
     "output_type": "stream",
     "text": [
      "Setting default log level to \"WARN\".\n",
      "To adjust logging level use sc.setLogLevel(newLevel). For SparkR, use setLogLevel(newLevel).\n"
     ]
    },
    {
     "name": "stdout",
     "output_type": "stream",
     "text": [
      "23/07/18 09:24:04 WARN NativeCodeLoader: Unable to load native-hadoop library for your platform... using builtin-java classes where applicable\n",
      "Spark V:  3.3.2\n"
     ]
    }
   ],
   "source": [
    "# Setup Spark Session\n",
    "from pyspark.sql import SparkSession\n",
    "\n",
    "# Get Imports Needed\n",
    "from pyspark.sql.functions import col, udf\n",
    "\n",
    "# Get Datatypes needed for DataFrame manipulation\n",
    "from pyspark.sql.types import IntegerType, StringType\n",
    "\n",
    "# Setup Spark Session\n",
    "sc = SparkSession \\\n",
    "        .builder \\\n",
    "        .master(\"local[*]\") \\\n",
    "        .appName(\"data_clean_up\") \\\n",
    "        .getOrCreate()\n",
    "\n",
    "# Print Spark Version being run\n",
    "print(\"Spark V: \", sc.version)"
   ]
  },
  {
   "cell_type": "code",
   "execution_count": 15,
   "id": "cbabeca6",
   "metadata": {},
   "outputs": [
    {
     "name": "stdout",
     "output_type": "stream",
     "text": [
      "English Dataframe Columns\n",
      "['tweet_id', 'sentiment', 'content']\n",
      "\n",
      "Grouped & Count by \"sentiment\"\n",
      "+----------+-----+\n",
      "|sentiment |count|\n",
      "+----------+-----+\n",
      "|boredom   |179  |\n",
      "|love      |3842 |\n",
      "|relief    |1526 |\n",
      "|fun       |1776 |\n",
      "|hate      |1323 |\n",
      "|neutral   |8638 |\n",
      "|anger     |110  |\n",
      "|happiness |5209 |\n",
      "|surprise  |2187 |\n",
      "|sadness   |5165 |\n",
      "|worry     |8459 |\n",
      "|enthusiasm|759  |\n",
      "|empty     |827  |\n",
      "+----------+-----+\n",
      "\n"
     ]
    }
   ],
   "source": [
    "# *********************************\n",
    "# *** English Data Preparations ***\n",
    "# *********************************\n",
    "\n",
    "# Load English CSV File into a Dataframe\n",
    "df_english = sc.read.csv(\"data/english.csv\", header=True, inferSchema=True)\n",
    "\n",
    "# Print Columns\n",
    "print('English Dataframe Columns')\n",
    "print(df_english.columns)\n",
    "\n",
    "# Group By the \"sentiment\"\n",
    "df_group_english = df_english.groupBy('sentiment').count()\n",
    "\n",
    "# Show Groupings and Respetive Counts\n",
    "print('\\nGrouped & Count by \"sentiment\"')\n",
    "df_group_english.show(truncate=0)"
   ]
  },
  {
   "cell_type": "code",
   "execution_count": 13,
   "id": "fd361668",
   "metadata": {},
   "outputs": [
    {
     "name": "stdout",
     "output_type": "stream",
     "text": [
      "German Dataframe Columns\n",
      "['article_emotion', 'article_id', 'article_stance', 'paragraphs', 'snippet', 'source', 'title']\n",
      "\n",
      "Grouped & Count by \"sentiment\"\n",
      "+----------------------------------+-----+\n",
      "|article_emotion                   |count|\n",
      "+----------------------------------+-----+\n",
      "|[Ärger, Antizipation, Traurigkeit]|1    |\n",
      "|[Überraschung, Vertrauen]         |14   |\n",
      "|[Überraschung, Freude]            |15   |\n",
      "|[Ärger, Vertrauen]                |7    |\n",
      "|[Ekel, Traurigkeit]               |4    |\n",
      "|[Keine, Antizipation]             |5    |\n",
      "|[Vertrauen]                       |130  |\n",
      "|[Freude]                          |58   |\n",
      "|[Ärger, Antizipation]             |31   |\n",
      "|[Ärger]                           |114  |\n",
      "|[Überraschung]                    |154  |\n",
      "|[Antizipation, Traurigkeit]       |15   |\n",
      "|[Antizipation, Freude, Vertrauen] |2    |\n",
      "|[Vertrauen, Angst]                |5    |\n",
      "|[Traurigkeit]                     |101  |\n",
      "|[Antizipation]                    |413  |\n",
      "|[Traurigkeit, Vertrauen]          |7    |\n",
      "|[Antizipation, Vertrauen]         |104  |\n",
      "|[Ärger, Traurigkeit, Angst]       |1    |\n",
      "|[Unklar]                          |314  |\n",
      "+----------------------------------+-----+\n",
      "only showing top 20 rows\n",
      "\n"
     ]
    }
   ],
   "source": [
    "# ********************************\n",
    "# *** German Data Preparations ***\n",
    "# ********************************\n",
    "\n",
    "# Load German JSON File into a Dataframe\n",
    "df_german = sc.read.json(\"data/german.json\")\n",
    "\n",
    "# Print Columns\n",
    "print('German Dataframe Columns')\n",
    "print(df_german.columns)\n",
    "\n",
    "# Group By the \"label\"\n",
    "df_group_german = df_german.groupBy('article_emotion').count()\n",
    "\n",
    "# Show Groupings and Respetive Counts\n",
    "print('\\nGrouped & Count by \"sentiment\"')\n",
    "df_group_german.show(truncate=0)"
   ]
  },
  {
   "cell_type": "code",
   "execution_count": null,
   "id": "215b5b54",
   "metadata": {},
   "outputs": [],
   "source": []
  }
 ],
 "metadata": {
  "kernelspec": {
   "display_name": "Python 3 (ipykernel)",
   "language": "python",
   "name": "python3"
  },
  "language_info": {
   "codemirror_mode": {
    "name": "ipython",
    "version": 3
   },
   "file_extension": ".py",
   "mimetype": "text/x-python",
   "name": "python",
   "nbconvert_exporter": "python",
   "pygments_lexer": "ipython3",
   "version": "3.10.9"
  }
 },
 "nbformat": 4,
 "nbformat_minor": 5
}
